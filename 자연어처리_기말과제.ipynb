{
  "nbformat": 4,
  "nbformat_minor": 0,
  "metadata": {
    "accelerator": "GPU",
    "colab": {
      "name": "자연어처리 기말과제.ipynb",
      "provenance": [],
      "collapsed_sections": [],
      "authorship_tag": "ABX9TyPg2KuLDmBGRnT/RMNH9dr4",
      "include_colab_link": true
    },
    "kernelspec": {
      "display_name": "Python 3",
      "name": "python3"
    }
  },
  "cells": [
    {
      "cell_type": "markdown",
      "metadata": {
        "id": "view-in-github",
        "colab_type": "text"
      },
      "source": [
        "<a href=\"https://colab.research.google.com/github/dhyu12/NLP/blob/main/%EC%9E%90%EC%97%B0%EC%96%B4%EC%B2%98%EB%A6%AC_%EA%B8%B0%EB%A7%90%EA%B3%BC%EC%A0%9C.ipynb\" target=\"_parent\"><img src=\"https://colab.research.google.com/assets/colab-badge.svg\" alt=\"Open In Colab\"/></a>"
      ]
    },
    {
      "cell_type": "code",
      "metadata": {
        "colab": {
          "base_uri": "https://localhost:8080/"
        },
        "id": "luvCxBrau0YP",
        "outputId": "5c5d019e-74c5-4ab1-a92b-33ceaab47bca"
      },
      "source": [
        "!nvidia-smi"
      ],
      "execution_count": 1,
      "outputs": [
        {
          "output_type": "stream",
          "text": [
            "Fri Dec  4 10:46:29 2020       \n",
            "+-----------------------------------------------------------------------------+\n",
            "| NVIDIA-SMI 455.38       Driver Version: 418.67       CUDA Version: 10.1     |\n",
            "|-------------------------------+----------------------+----------------------+\n",
            "| GPU  Name        Persistence-M| Bus-Id        Disp.A | Volatile Uncorr. ECC |\n",
            "| Fan  Temp  Perf  Pwr:Usage/Cap|         Memory-Usage | GPU-Util  Compute M. |\n",
            "|                               |                      |               MIG M. |\n",
            "|===============================+======================+======================|\n",
            "|   0  Tesla P100-PCIE...  Off  | 00000000:00:04.0 Off |                    0 |\n",
            "| N/A   33C    P0    27W / 250W |      0MiB / 16280MiB |      0%      Default |\n",
            "|                               |                      |                 ERR! |\n",
            "+-------------------------------+----------------------+----------------------+\n",
            "                                                                               \n",
            "+-----------------------------------------------------------------------------+\n",
            "| Processes:                                                                  |\n",
            "|  GPU   GI   CI        PID   Type   Process name                  GPU Memory |\n",
            "|        ID   ID                                                   Usage      |\n",
            "|=============================================================================|\n",
            "|  No running processes found                                                 |\n",
            "+-----------------------------------------------------------------------------+\n"
          ],
          "name": "stdout"
        }
      ]
    },
    {
      "cell_type": "code",
      "metadata": {
        "colab": {
          "base_uri": "https://localhost:8080/"
        },
        "id": "vTZuJUz9rdET",
        "outputId": "b6dd1302-1b09-4c31-9cea-13e359092195"
      },
      "source": [
        "!set -x \\\n",
        "&& pip install konlpy \\\n",
        "&& curl -s https://raw.githubusercontent.com/konlpy/konlpy/master/scripts/mecab.sh | bash -x"
      ],
      "execution_count": 2,
      "outputs": [
        {
          "output_type": "stream",
          "text": [
            "+ pip install konlpy\n",
            "Requirement already satisfied: konlpy in /usr/local/lib/python3.6/dist-packages (0.5.2)\n",
            "Requirement already satisfied: lxml>=4.1.0 in /usr/local/lib/python3.6/dist-packages (from konlpy) (4.2.6)\n",
            "Requirement already satisfied: tweepy>=3.7.0 in /usr/local/lib/python3.6/dist-packages (from konlpy) (3.9.0)\n",
            "Requirement already satisfied: colorama in /usr/local/lib/python3.6/dist-packages (from konlpy) (0.4.4)\n",
            "Requirement already satisfied: numpy>=1.6 in /usr/local/lib/python3.6/dist-packages (from konlpy) (1.18.5)\n",
            "Requirement already satisfied: JPype1>=0.7.0 in /usr/local/lib/python3.6/dist-packages (from konlpy) (1.2.0)\n",
            "Requirement already satisfied: beautifulsoup4==4.6.0 in /usr/local/lib/python3.6/dist-packages (from konlpy) (4.6.0)\n",
            "Requirement already satisfied: requests-oauthlib>=0.7.0 in /usr/local/lib/python3.6/dist-packages (from tweepy>=3.7.0->konlpy) (1.3.0)\n",
            "Requirement already satisfied: six>=1.10.0 in /usr/local/lib/python3.6/dist-packages (from tweepy>=3.7.0->konlpy) (1.15.0)\n",
            "Requirement already satisfied: requests[socks]>=2.11.1 in /usr/local/lib/python3.6/dist-packages (from tweepy>=3.7.0->konlpy) (2.23.0)\n",
            "Requirement already satisfied: typing-extensions; python_version < \"3.8\" in /usr/local/lib/python3.6/dist-packages (from JPype1>=0.7.0->konlpy) (3.7.4.3)\n",
            "Requirement already satisfied: oauthlib>=3.0.0 in /usr/local/lib/python3.6/dist-packages (from requests-oauthlib>=0.7.0->tweepy>=3.7.0->konlpy) (3.1.0)\n",
            "Requirement already satisfied: certifi>=2017.4.17 in /usr/local/lib/python3.6/dist-packages (from requests[socks]>=2.11.1->tweepy>=3.7.0->konlpy) (2020.11.8)\n",
            "Requirement already satisfied: urllib3!=1.25.0,!=1.25.1,<1.26,>=1.21.1 in /usr/local/lib/python3.6/dist-packages (from requests[socks]>=2.11.1->tweepy>=3.7.0->konlpy) (1.24.3)\n",
            "Requirement already satisfied: idna<3,>=2.5 in /usr/local/lib/python3.6/dist-packages (from requests[socks]>=2.11.1->tweepy>=3.7.0->konlpy) (2.10)\n",
            "Requirement already satisfied: chardet<4,>=3.0.2 in /usr/local/lib/python3.6/dist-packages (from requests[socks]>=2.11.1->tweepy>=3.7.0->konlpy) (3.0.4)\n",
            "Requirement already satisfied: PySocks!=1.5.7,>=1.5.6; extra == \"socks\" in /usr/local/lib/python3.6/dist-packages (from requests[socks]>=2.11.1->tweepy>=3.7.0->konlpy) (1.7.1)\n",
            "+ bash -x\n",
            "+ curl -s https://raw.githubusercontent.com/konlpy/konlpy/master/scripts/mecab.sh\n",
            "+ mecab_dicdir=/usr/local/lib/mecab/dic/mecab-ko-dic\n",
            "+ set -e\n",
            "++ uname\n",
            "+ os=Linux\n",
            "+ [[ ! Linux == \\L\\i\\n\\u\\x ]]\n",
            "+ hash sudo\n",
            "+ sudo=sudo\n",
            "+ python=python3\n",
            "+ hash pyenv\n",
            "+ at_user_site=\n",
            "++ check_python_site_location_is_writable\n",
            "++ python3 -\n",
            "+ [[ 1 == \\0 ]]\n",
            "+ hash automake\n",
            "+ hash mecab\n",
            "+ echo 'mecab-ko is already installed'\n",
            "mecab-ko is already installed\n",
            "+ [[ -d /usr/local/lib/mecab/dic/mecab-ko-dic ]]\n",
            "+ echo 'mecab-ko-dic is already installed'\n",
            "mecab-ko-dic is already installed\n",
            "++ python3 -c 'import pkgutil; print(1 if pkgutil.find_loader(\"MeCab\") else 0)'\n",
            "+ [[ 1 == \\1 ]]\n",
            "+ echo 'mecab-python is already installed'\n",
            "mecab-python is already installed\n",
            "+ echo Done.\n",
            "Done.\n"
          ],
          "name": "stdout"
        }
      ]
    },
    {
      "cell_type": "code",
      "metadata": {
        "id": "sFPY-N39u-L2",
        "colab": {
          "base_uri": "https://localhost:8080/"
        },
        "outputId": "cc158200-dd8b-4f72-8688-9024c976a71e"
      },
      "source": [
        "from google.colab import drive\n",
        "drive.mount('/content/drive')"
      ],
      "execution_count": 3,
      "outputs": [
        {
          "output_type": "stream",
          "text": [
            "Drive already mounted at /content/drive; to attempt to forcibly remount, call drive.mount(\"/content/drive\", force_remount=True).\n"
          ],
          "name": "stdout"
        }
      ]
    },
    {
      "cell_type": "code",
      "metadata": {
        "colab": {
          "base_uri": "https://localhost:8080/"
        },
        "id": "8ao8YKqyq_L4",
        "outputId": "baadc760-af82-449a-bdf4-3998688b6bd6"
      },
      "source": [
        "def read_documents(filename):\n",
        "    with open(filename, encoding='utf-8') as f:\n",
        "        documents = [line.split('\\t') for line in f.read().splitlines()]\n",
        "        documents = documents[1:]\n",
        "        \n",
        "    return documents\n",
        "    \n",
        "train_docs = read_documents(\"/content/drive/MyDrive/data/ratings_train.txt\")\n",
        "test_docs = read_documents(\"/content/drive/MyDrive/data/ratings_test.txt\")\n",
        "\n",
        "print(len(train_docs))\n",
        "print(len(train_docs[0]))\n",
        "print(len(test_docs))\n",
        "print(len(test_docs[0]))"
      ],
      "execution_count": 4,
      "outputs": [
        {
          "output_type": "stream",
          "text": [
            "150000\n",
            "3\n",
            "50000\n",
            "3\n"
          ],
          "name": "stdout"
        }
      ]
    },
    {
      "cell_type": "code",
      "metadata": {
        "id": "MuDMznMlvpPm"
      },
      "source": [
        "import pandas as pd\n",
        "import numpy as np\n",
        "import matplotlib.pyplot as plt"
      ],
      "execution_count": 5,
      "outputs": []
    },
    {
      "cell_type": "code",
      "metadata": {
        "id": "70ef1FvEv5h_"
      },
      "source": [
        "from konlpy.tag import Mecab\n",
        "import re\n",
        "\n",
        "mecab  = Mecab()"
      ],
      "execution_count": 9,
      "outputs": []
    },
    {
      "cell_type": "code",
      "metadata": {
        "id": "baEGGLUUxnKa"
      },
      "source": [
        "def text_tokenizing(doc):\n",
        "    # mecab 형태소 분석 및 불용어제외, 길이가 1인 글자 제외\n",
        "    return [word for word in mecab.morphs(doc) if word not in stopwords_korean and len(word) > 1]\n",
        "\n",
        "def text_cleaning(doc):\n",
        "    # 한국어를 제외한 글자를 제거하는 함수.\n",
        "    doc = re.sub(\"[^ㄱ-ㅎㅏ-ㅣ가-힣 ]\", \"\", doc)\n",
        "    return doc"
      ],
      "execution_count": 10,
      "outputs": []
    },
    {
      "cell_type": "code",
      "metadata": {
        "id": "QG--KmB-817D",
        "colab": {
          "base_uri": "https://localhost:8080/"
        },
        "outputId": "67fce4ab-9170-4362-e53e-8de0da6f080e"
      },
      "source": [
        "from nltk.corpus import stopwords \n",
        "from nltk.tokenize import word_tokenize \n",
        "\n",
        "# https://www.ranks.nl/stopwords/korean 불용어 한국어 자료\n",
        "stopwords_korean = read_documents(\"/content/drive/MyDrive/data/stopwords_korean.txt\")\n",
        "\n",
        "print(\"불용어 총 갯수 : \",len(stopwords_korean))"
      ],
      "execution_count": 11,
      "outputs": [
        {
          "output_type": "stream",
          "text": [
            "불용어 총 갯수 :  674\n"
          ],
          "name": "stdout"
        }
      ]
    },
    {
      "cell_type": "code",
      "metadata": {
        "id": "qqpCkgL607F1"
      },
      "source": [
        "X_train = [(text_tokenizing(text_cleaning(line[1])), line[2]) for line in train_docs]"
      ],
      "execution_count": 12,
      "outputs": []
    },
    {
      "cell_type": "code",
      "metadata": {
        "id": "rYui22lw1We9",
        "colab": {
          "base_uri": "https://localhost:8080/"
        },
        "outputId": "6120945f-768d-42c3-a787-245030024fee"
      },
      "source": [
        "X_train[:3]"
      ],
      "execution_count": 13,
      "outputs": [
        {
          "output_type": "execute_result",
          "data": {
            "text/plain": [
              "[(['진짜', '짜증', '네요', '목소리'], '0'),\n",
              " (['포스터', '보고', '초딩', '영화', '오버', '연기', '조차', '가볍', '구나'], '1'),\n",
              " (['너무', '밓었다그래서보는것을추천한다'], '0')]"
            ]
          },
          "metadata": {
            "tags": []
          },
          "execution_count": 13
        }
      ]
    },
    {
      "cell_type": "code",
      "metadata": {
        "id": "0vtRMsp-121y"
      },
      "source": [
        "X_test = [(text_tokenizing(text_cleaning(line[1])), line[2]) for line in test_docs]"
      ],
      "execution_count": 14,
      "outputs": []
    },
    {
      "cell_type": "code",
      "metadata": {
        "id": "r_RyE9EeiV--",
        "colab": {
          "base_uri": "https://localhost:8080/"
        },
        "outputId": "683becab-108d-4c94-a061-3ae3ce302001"
      },
      "source": [
        "X_test[:3]"
      ],
      "execution_count": 15,
      "outputs": [
        {
          "output_type": "execute_result",
          "data": {
            "text/plain": [
              "[([], '1'), ([], '0'), (['평점', '나쁘', '지만', '짜리', '더더욱', '아니', '잖아'], '0')]"
            ]
          },
          "metadata": {
            "tags": []
          },
          "execution_count": 15
        }
      ]
    },
    {
      "cell_type": "code",
      "metadata": {
        "id": "3Rv98PQg75a6",
        "colab": {
          "base_uri": "https://localhost:8080/"
        },
        "outputId": "8e820361-61f7-413b-be10-43f235e2f3b4"
      },
      "source": [
        "import nltk\n",
        "\n",
        "tokens = [t for d in X_train for t in d[0]]\n",
        "print(len(tokens))"
      ],
      "execution_count": 16,
      "outputs": [
        {
          "output_type": "stream",
          "text": [
            "1138352\n"
          ],
          "name": "stdout"
        }
      ]
    },
    {
      "cell_type": "code",
      "metadata": {
        "id": "LsoKPAUz8Fj5",
        "colab": {
          "base_uri": "https://localhost:8080/"
        },
        "outputId": "92e6b7fd-e997-4e71-847f-d5dc843d24e3"
      },
      "source": [
        "text = nltk.Text(tokens)\n",
        "print(text)"
      ],
      "execution_count": 17,
      "outputs": [
        {
          "output_type": "stream",
          "text": [
            "<Text: 진짜 짜증 네요 목소리 포스터 보고 초딩 영화...>\n"
          ],
          "name": "stdout"
        }
      ]
    },
    {
      "cell_type": "code",
      "metadata": {
        "id": "Zjgy0J8d8Gg1",
        "colab": {
          "base_uri": "https://localhost:8080/"
        },
        "outputId": "af9f1041-24e5-48dc-effb-e4241d47b43f"
      },
      "source": [
        "text.vocab().most_common(10)"
      ],
      "execution_count": 18,
      "outputs": [
        {
          "output_type": "execute_result",
          "data": {
            "text/plain": [
              "[('영화', 57601),\n",
              " ('는데', 11464),\n",
              " ('너무', 11013),\n",
              " ('정말', 9779),\n",
              " ('으로', 9314),\n",
              " ('재밌', 8988),\n",
              " ('네요', 8979),\n",
              " ('지만', 8654),\n",
              " ('진짜', 8327),\n",
              " ('에서', 8064)]"
            ]
          },
          "metadata": {
            "tags": []
          },
          "execution_count": 18
        }
      ]
    },
    {
      "cell_type": "code",
      "metadata": {
        "id": "xnRcJvP_8OHk"
      },
      "source": [
        "selected_words = [f[0] for f in text.vocab().most_common(100)]"
      ],
      "execution_count": 19,
      "outputs": []
    },
    {
      "cell_type": "code",
      "metadata": {
        "id": "MolcgOpO6fht"
      },
      "source": [
        "def term_exists(doc):\n",
        "    return {'exists({})'.format(word): (word in set(doc)) for word in selected_words}"
      ],
      "execution_count": 20,
      "outputs": []
    },
    {
      "cell_type": "code",
      "metadata": {
        "id": "reWHFKaf6i4y"
      },
      "source": [
        "train_xy = [(term_exists(d), c) for d, c in X_train]\n",
        "test_xy = [(term_exists(d), c) for d, c in X_test]"
      ],
      "execution_count": 21,
      "outputs": []
    },
    {
      "cell_type": "code",
      "metadata": {
        "id": "8Q6Vuxg02-yS",
        "colab": {
          "base_uri": "https://localhost:8080/"
        },
        "outputId": "bead353e-69b8-4ffc-8ea0-b3c38c71da2d"
      },
      "source": [
        "import time\n",
        "from nltk.classify.scikitlearn import SklearnClassifier\n",
        "from sklearn.naive_bayes import MultinomialNB,BernoulliNB\n",
        "from sklearn.linear_model import LogisticRegression, SGDClassifier\n",
        "from sklearn.svm import SVC\n",
        "\n",
        "start_time = time.time()\n",
        "classifier = nltk.NaiveBayesClassifier.train(train_xy)\n",
        "end_time = time.time()\n",
        "print(\"Naive Bayes 학습에 걸린 시간 -- {}초\".format(round(end_time - start_time)))\n",
        "print(\"Naive Bayes 정확도 -- {:.2f}%\".format(nltk.classify.accuracy(classifier, test_xy)*100))"
      ],
      "execution_count": 39,
      "outputs": [
        {
          "output_type": "stream",
          "text": [
            "Naive Bayes 학습에 걸린 시간 -- 13초\n",
            "Naive Bayes 정확도 : 69.21%\n"
          ],
          "name": "stdout"
        }
      ]
    },
    {
      "cell_type": "code",
      "metadata": {
        "id": "OxuDLFav7WFN",
        "colab": {
          "base_uri": "https://localhost:8080/"
        },
        "outputId": "e43a2076-0955-4981-d53f-51ef973a7713"
      },
      "source": [
        "classifier.show_most_informative_features(10)"
      ],
      "execution_count": 40,
      "outputs": [
        {
          "output_type": "stream",
          "text": [
            "Most Informative Features\n",
            "              exists(최악) = True                0 : 1      =     67.5 : 1.0\n",
            "             exists(쓰레기) = True                0 : 1      =     15.9 : 1.0\n",
            "             exists(재미없) = True                0 : 1      =     12.9 : 1.0\n",
            "              exists(최고) = True                1 : 0      =     11.8 : 1.0\n",
            "              exists(아깝) = True                0 : 1      =     10.4 : 1.0\n",
            "              exists(ㅡㅡ) = True                0 : 1      =      8.7 : 1.0\n",
            "              exists(별로) = True                0 : 1      =      6.8 : 1.0\n",
            "              exists(명작) = True                1 : 0      =      6.6 : 1.0\n",
            "             exists(재미있) = True                1 : 0      =      6.1 : 1.0\n",
            "              exists(ㅎㅎ) = True                1 : 0      =      5.7 : 1.0\n"
          ],
          "name": "stdout"
        }
      ]
    },
    {
      "cell_type": "code",
      "metadata": {
        "colab": {
          "base_uri": "https://localhost:8080/"
        },
        "id": "0jkGn6aQLw3-",
        "outputId": "964bd629-4c59-4185-d460-dabae9f78f61"
      },
      "source": [
        "start_time = time.time()\n",
        "LogisticRegression_classifier = SklearnClassifier(LogisticRegression())\n",
        "LogisticRegression_classifier.train(train_xy)\n",
        "end_time = time.time()\n",
        "print(\"LogisticRegression학습에 걸린 시간 -- {}초\".format(round(end_time - start_time)))\n",
        "print(\"LogisticRegression 정확도 -- {:.2f}%\".format(nltk.classify.accuracy(LogisticRegression_classifier, test_xy)*100))"
      ],
      "execution_count": 41,
      "outputs": [
        {
          "output_type": "stream",
          "text": [
            "LogisticRegression학습에 걸린 시간 -- 10초\n",
            "LogisticRegression 정확도 -- 69.49%\n"
          ],
          "name": "stdout"
        }
      ]
    },
    {
      "cell_type": "code",
      "metadata": {
        "id": "6NhYqKk-4run",
        "colab": {
          "base_uri": "https://localhost:8080/"
        },
        "outputId": "921098aa-d1f9-4260-d498-d59cb9560376"
      },
      "source": [
        "start_time = time.time()\n",
        "# classifier2 = nltk.DecisionTreeClassifier.train(train_xy, entropy_cutoff=0, support_cutoff=0)\n",
        "Maxent_Classifier = nltk.MaxentClassifier.train(train_xy, max_iter=3)\n",
        "end_time = time.time()\n",
        "print(\"Maximum Entropy 학습에 걸린 시간 -- {}초\".format(round(end_time - start_time)))\n",
        "print(\"Maximum Entropy 정확도 -- {:.2f}%\".format(nltk.classify.accuracy(Maxent_Classifier, test_xy)*100))"
      ],
      "execution_count": 42,
      "outputs": [
        {
          "output_type": "stream",
          "text": [
            "  ==> Training (3 iterations)\n",
            "\n",
            "      Iteration    Log Likelihood    Accuracy\n",
            "      ---------------------------------------\n",
            "             1          -0.69315        0.499\n",
            "             2          -0.68897        0.688\n",
            "         Final          -0.68489        0.693\n",
            "Maximum Entropy 학습에 걸린 시간 -- 348초\n",
            "Maximum Entropy 정확도 -- 68.93%\n"
          ],
          "name": "stdout"
        }
      ]
    }
  ]
}